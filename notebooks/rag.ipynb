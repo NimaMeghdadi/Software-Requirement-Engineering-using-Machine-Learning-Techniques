{
 "cells": [
  {
   "cell_type": "code",
   "execution_count": 2,
   "metadata": {},
   "outputs": [],
   "source": [
    "import os\n",
    "from dotenv import load_dotenv\n",
    "\n",
    "load_dotenv()\n",
    "\n",
    "OPENAI_API_KEY = os.getenv(\"OPENAI_API_KEY\")\n",
    "PINECONE_API_KEY = os.getenv(\"PINECONE_API_KEY\")"
   ]
  },
  {
   "cell_type": "code",
   "execution_count": 3,
   "metadata": {},
   "outputs": [],
   "source": [
    "from langchain_openai import ChatOpenAI\n",
    "\n",
    "model = ChatOpenAI(openai_api_key = OPENAI_API_KEY, model = \"gpt-3.5-turbo\")\n"
   ]
  },
  {
   "cell_type": "code",
   "execution_count": 4,
   "metadata": {},
   "outputs": [
    {
     "data": {
      "text/plain": [
       "AIMessage(content=\"Hello! I'm just a computer program, so I don't have feelings, but I'm here and ready to assist you. How can I help you today?\", additional_kwargs={'refusal': None}, response_metadata={'token_usage': {'completion_tokens': 33, 'prompt_tokens': 13, 'total_tokens': 46, 'completion_tokens_details': {'accepted_prediction_tokens': 0, 'audio_tokens': 0, 'reasoning_tokens': 0, 'rejected_prediction_tokens': 0}, 'prompt_tokens_details': {'audio_tokens': 0, 'cached_tokens': 0}}, 'model_name': 'gpt-3.5-turbo-0125', 'system_fingerprint': None, 'finish_reason': 'stop', 'logprobs': None}, id='run-d10185ca-cc60-4328-9062-c7b6a36365a6-0', usage_metadata={'input_tokens': 13, 'output_tokens': 33, 'total_tokens': 46, 'input_token_details': {'audio': 0, 'cache_read': 0}, 'output_token_details': {'audio': 0, 'reasoning': 0}})"
      ]
     },
     "execution_count": 4,
     "metadata": {},
     "output_type": "execute_result"
    }
   ],
   "source": [
    "model.invoke(\"Hello, how are you?\")"
   ]
  },
  {
   "cell_type": "code",
   "execution_count": 5,
   "metadata": {},
   "outputs": [
    {
     "data": {
      "text/plain": [
       "\"Hello! I'm just a computer program, so I don't have feelings, but I'm here to help you. How can I assist you today?\""
      ]
     },
     "execution_count": 5,
     "metadata": {},
     "output_type": "execute_result"
    }
   ],
   "source": [
    "from langchain_core.output_parsers import StrOutputParser\n",
    "\n",
    "parser = StrOutputParser()\n",
    "\n",
    "chain = model | parser\n",
    "\n",
    "chain.invoke(\"Hello, how are you?\")"
   ]
  },
  {
   "cell_type": "code",
   "execution_count": 6,
   "metadata": {},
   "outputs": [
    {
     "data": {
      "text/plain": [
       "\"Human: Classify the requirement text into one of the following categories by answering only with the category code (F, A, FT, L, LF, MN, O, PE, PO, SC, SE, or US):\\n- **F (Functional)**: Requirements detailing specific system functionalities or actions.\\n- **A (Availability)**: Requirements related to system uptime, accessibility, or continuous operation.\\n- **FT (Fault Tolerance)**: Requirements ensuring the system can handle errors or unexpected failures.\\n- **L (Legal)**: Requirements concerning compliance with laws, regulations, or industry standards.\\n- **LF (Look & Feel)**: Requirements about the appearance, design, color schemes, or visual style.\\n- **MN (Maintainability)**: Requirements on ease of updates, maintenance, or adjustments.\\n- **O (Operational)**: Requirements on system operations, such as supported platforms or environments.\\n- **PE (Performance)**: Requirements focused on system speed, response time, or resource efficiency.\\n- **PO (Portability)**: Requirements related to compatibility across various devices or platforms.\\n- **SC (Scalability)**: Requirements on the system's ability to handle growth in users or workload.\\n- **SE (Security)**: Requirements ensuring data security, authorization, or protection from threats.\\n- **US (Usability)**: Requirements focused on user-friendliness, ease of use, or intuitive design.\\n\\nHere are some examples of each category:\\n\\nLF:The application shall match the color of the schema set forth by Department of Homeland Security\\n\\nNow classify this new requirement:The user interface shall have standard menus  buttons for navigation\\n\""
      ]
     },
     "execution_count": 6,
     "metadata": {},
     "output_type": "execute_result"
    }
   ],
   "source": [
    "from langchain.prompts import ChatPromptTemplate\n",
    "\n",
    "template = \"\"\"Classify the requirement text into one of the following categories by answering only with the category code (F, A, FT, L, LF, MN, O, PE, PO, SC, SE, or US):\n",
    "- **F (Functional)**: Requirements detailing specific system functionalities or actions.\n",
    "- **A (Availability)**: Requirements related to system uptime, accessibility, or continuous operation.\n",
    "- **FT (Fault Tolerance)**: Requirements ensuring the system can handle errors or unexpected failures.\n",
    "- **L (Legal)**: Requirements concerning compliance with laws, regulations, or industry standards.\n",
    "- **LF (Look & Feel)**: Requirements about the appearance, design, color schemes, or visual style.\n",
    "- **MN (Maintainability)**: Requirements on ease of updates, maintenance, or adjustments.\n",
    "- **O (Operational)**: Requirements on system operations, such as supported platforms or environments.\n",
    "- **PE (Performance)**: Requirements focused on system speed, response time, or resource efficiency.\n",
    "- **PO (Portability)**: Requirements related to compatibility across various devices or platforms.\n",
    "- **SC (Scalability)**: Requirements on the system's ability to handle growth in users or workload.\n",
    "- **SE (Security)**: Requirements ensuring data security, authorization, or protection from threats.\n",
    "- **US (Usability)**: Requirements focused on user-friendliness, ease of use, or intuitive design.\n",
    "\n",
    "Here are some examples of each category:\n",
    "\n",
    "{examples}\n",
    "\n",
    "Now classify this new requirement:{requirment}\n",
    "\"\"\"\n",
    "\n",
    "prompt = ChatPromptTemplate.from_template(template)\n",
    "prompt.format(requirment=\"The user interface shall have standard menus  buttons for navigation\", examples=\"LF:The application shall match the color of the schema set forth by Department of Homeland Security\")"
   ]
  },
  {
   "cell_type": "code",
   "execution_count": 7,
   "metadata": {},
   "outputs": [
    {
     "data": {
      "text/plain": [
       "'US'"
      ]
     },
     "execution_count": 7,
     "metadata": {},
     "output_type": "execute_result"
    }
   ],
   "source": [
    "chain = prompt | model | parser\n",
    "chain.invoke({\n",
    "    \"requirment\": \"The user interface shall have standard menus  buttons for navigation\",\n",
    "    \"examples\": \"LF:The application shall match the color of the schema set forth by Department of Homeland Security\"\n",
    "}\n",
    ")"
   ]
  },
  {
   "cell_type": "code",
   "execution_count": 8,
   "metadata": {},
   "outputs": [
    {
     "data": {
      "text/plain": [
       "[Document(metadata={'source': './data/nfr.txt'}, page_content='PE:The system shall refresh the display every 60 seconds.\\nLF:The application shall match the color of the schema set forth by Department of Homeland Security\\nUS: If projected  the data must be readable.  On a 10x10 projection screen  90% of viewers must be able to read Event / Activity data from a viewing distance of 30\\nA: The product shall be available during normal business hours. As long as the user has access to the client PC  the system will be available 99% of the time during the first six months of operation.\\nUS: If projected  the data must be understandable. On a 10x10 projection screen  90% of viewers must be able to determine that Events or Activities are occuring in current time from a viewing distance of 100\\nSE:The product shall ensure that it can only be accessed by authorized users.  The product will be able to distinguish between authorized and unauthorized users in all access attempts\\nUS:The product shall be intuitive and self-explanatory.  :  90% of new users shall be able to start the display of Events or Activities within 90 minutes of using the product.\\nPE:The product shall respond fast to keep up-to-date data in the display.\\nF:The system shall have a MDI form that allows for the viewing of the graph and the data table.\\nF:The system shall display Events in a vertical table by time.\\nF:The system shall display the Events in a graph by time.\\nL:All business rules specified in the Disputes System shall be in compliance to the guidelines of Regulation E and Regulation Z.\\nL:The Disputes application must maintain a detailed history of every action that a user takes on a dispute case.  This ensures a complete audit trail if questions arise later on with regard to a particular dispute case.\\nL:All actions that modify an existing dispute case must be recorded in the case history.\\nF:The Disputes System must be accessible by both internal and external users.\\nF:The Disputes System must prevent users from accessing any dispute cases that do not belong to their cardholder base.\\nF:The Disputes System will facilitate direct data entry of a dispute case via a user interface that supports real time responses to the users.\\nF:The Disputes System must provide different levels of access with regard to disputes case initiation and follow-up actions.\\nF:The Disputes System shall provide view access capability for authorized users of the application.\\nF:The Disputes System shall provide update access capability for authorized users of the application.\\nF:The Disputes System must allow the users to select disputable transactions (based on the age of the transaction) from a user interface and initiate a dispute (ticket retrieval request or chargeback notification) on the selected transaction.\\nF:The Disputes System must provide the user the ability to initiate a single dispute case on multiple transactions that belong to a single merchant.\\nF:The Disputes System will provide the user the ability to create or initiate a ticket retrieval request.   As part of ticket retrieval creation process the system must prompt the user to enter all the required information to create the ticket retrieval request.  The ticket retrieval request is a document that is sent to merchant inquiring the validity of a transaction.\\nF:The Disputes System must allow the user to create three unique types of ticket retrieval requests.  The three types of ticket retrieval requests are (1) Request for original receipt (2) Request for a copy of the receipt or (3) Request for a portfolio. A portfolio consists of documentation that would provide proof of a purchase such as the documentation that is received from a car rental agency that is more than a sales receipt.\\nF:The Disputes System must prevent external users from requesting original receipts. Requests for original receipts are restricted to internal users.\\nF: The Disputes System must provide a confirmation to the user upon the creation of ticket retrieval request that contains the following information; the dispute case number  the type of retrieval requested (copy  original or portfolio)  and the date that the merchant response is due.\\nF:The Disputes System shall allow the user to create or initiate a chargeback request.  The system must prompt the user to enter the required information to initiate a chargeback request. The chargeback request results in a printed chargeback notification that is sent to merchant indicating that their account will be charged back if no proof is provided that the disputed transaction is valid.\\nF: The Disputes System must provide a confirmation to the user upon the creation of a chargeback request. The confirmation must contain the following information; the dispute case number  the type of chargeback requested (pending or immediate)  and the date that the merchant response is due.\\nF:The Disputes System shall prevent the creation of duplicate dispute requests 100% of the time.\\nF: The Disputes System shall accurately provide a list of possible reason codes for a given transaction.  The list of possible reason codes must be derived based on the type of transaction and the industry that the merchant belongs to  according to the business rules defined for the Disputes System.\\nF:The Disputes System must provide the ability to view existing dispute cases.\\nF: The Disputes System must provide Search functionality.  The search method must include the ability to search by (1) the dispute case number  (2) the merchant account number  (3) the cardmember account number and (4) the issuer number.  In addition to the above criteria  the search functionality must further allow the user to limit the results of the search by a date range  the type of dispute (ticket retrieval request or chargeback notification)  the case status (open  closed or all) and the dispute reason code.\\nF:A list of all disputes cases that meet the entered search criteria must be provided to the user.  The list of cases must differentiate the type and/or status of the case by color -coding the line item in the list.  For example all open cases will be yellow and all closed cases will be gray.\\nF:The Disputes System shall provide the users the ability to view the history of all activities that have occurred on the dispute case.\\nF:The Dispute System shall provide the users with the ability to follow up on a dispute case via follow-up actions.  The list of available follow up actions for a given dispute case must be filtered by the status of the case and the access level of the user.\\nF: The Disputes System shall record the name of the user and the date for any activity that creates or modifies the disputes case in the system.  A detailed history of the actions taken on the case  including the date and the user that performed the action must be maintained for auditing purposes.\\nF: For any systematic (non-user initiated) action that occurs on a case such as the disputes aging process  a case activity will be generated.  Upon the next logon the user that initiated the dispute case must be notified that a systematic action has occurred on the dispute case.\\nF:All letter requests must be formatted according to guidelines specified by the Print Letter Utility system.\\nF:Any disputes cases that have been closed for over 6 months must be purged from the online disputes database.\\nO:The product must support Internet Explorer 5.5 and above.\\nO:The product must support Mozilla Firefox 1.0 and above.\\nO:The product shall interface with the Choice Parts System.  This provides the feed of recycled parts data.\\nO:The product shall run on the existing hardware for all environments.\\nO:The product shall adhere to the corporate Architecture guidelines\\nLF:The product shall comply with corporate User Interface Guidelines\\nLF:The product shall comply with corporate color scheme\\nLF:The appearance of the product shall appear professional\\nPO:The software product is expected to run on Windows or Linux platforms.\\nUS:The product shall be easy to use by Adjusters and Collision Estimators.  95% of Adjusters and Collision Estimators shall find the product easy to use.\\nUS:The product shall increase productivity of Collision Estimators. 80% of the Collision Estimators shall agree their productivity has increase within 1 month of using the product.\\nUS:Users shall feel satisfied using the product.  85% of all users will be satisfied with the product.\\nUS:The product shall be easy to learn by Adjusters and Collision Estimators.  The product shall be learned with two days onsite training\\nUS:The user shall easily locate instructions while using the product.  User help can be found within 90% of the system.\\nPE:The search for recycled parts shall take no longer than 15 seconds.  The search results shall be returned in under 15 seconds.\\nPE:The search for the preferred repair facility shall take no longer than 8 seconds.  The preferred repair facility is returned within 8 seconds\\nPE:The recycled parts audit report shall be returned to the user within 10 seconds.  The audit report shall be returned within 10 seconds.\\nPE:The preferred repair facility ratings shall be saved within 5 seconds. The save shall occur within 5 seconds.\\nA:The product shall adhere to the corporate online availability schedule.  The application is brought down only within 98% of the scheduled outages per the availability schedule.\\nA:The product shall achieve a 98% uptime. The product shall not fail more than 2% of the available online time.\\nSC:The product shall be able to handle up to 1500 simultaneous users. The system shall perform with 1500 users as a time.\\nSC: The average number of recycled parts records per day shall be 50 000.\\nSC: The product shall be able to handle 10 000 concurrent users within 2 years of the initial launch.\\nO: For estimators  the product shall be able to be operated in a repair facility during dirty and noisy conditions.\\nO:The product shall interface with the ChoiceParts system once per day at approximately 1:00 AM.\\nO:The maintenance of the product will fall within the established corporate maintenance windows.\\nO:The product shall be supported using the corporate support center.\\nO:Product installations and upgrades shall be handled by the middleware technology team within established launch time frames.\\nSE:Only adjusters can request recycled parts audit reports. No users without an adjuster role shall request recycled parts audits.\\nSE:Only adjusters with a supervisor role can update preferred repair facility ratings. Users without the supervisor role cannot access the repair facility ratings.\\nSE:Only collision estimators shall search for recycled parts.  Users without the collision estimator role shall not have access to the search for recycled parts.\\nSE:Only valid data shall be entered into the system.  No invalid data shall be entered into the system.\\nSE:One insurance company shall not be able to view another insurance companys claim data.\\nSE:The product shall free of computer viruses.\\nSE:The system shall prevent malicious attacks including denial of service.\\nL:The product must comply with Sarbanes-Oxley.\\nL:The product shall comply with the estimatics laws relating to recycled parts usage.\\nL:The product shall comply with insurance regulations regarding claims processing.\\nF: The user shall search for the preferred repair facility using vehicle  vehicle location  and radius in miles\\nF: The vehicle data shall include vehicle year  make  and model\\nF: The vehicle location shall include street address  city  state  and zipcode\\nF: The system shall resolve the zipcode for the street address  city  and state if zipcode is unknown.\\nF:The search radius shall be between 1 and 30 miles\\nF:The system shall locate the preferred repair facility with the highest ratings for the input criteria\\nF:The adjuster shall enter the preferred repair facility on the estimate assignment.\\nF:The adjuster shall be able to override the preferred repair facitlity on the estimate assignment.\\nF:The preferred repair facility shall be returned to the user.\\nF:The system shall return a list of repair facilities within the radius if the preferred repair facility cannot be determined.\\nF:The estimator shall search for available recycled parts using damaged vehicle parts information.\\nF:The estimator shall search for available recycled parts using a list of preferred parts suppliers.\\nF:The system shall search for available recycled parts for the supplied vehicle parts and suppliers.\\nF:The estimator shall search by zipcode with a radius of 30 miles if no parts are found for the preferred parts suppliers\\nF:The system shall retain the available recycled parts and suppliers returned from the search.\\nF:The available recycled parts information and their suppliers shall be returned to the user.\\nF:The estimator shall apply selected recycled parts to the collision estimate.\\nF:The estimator shall not apply recycled parts to the collision estimate if no available parts are returned.\\nF:The adjuster shall review the collision estimate.\\nF:The adjuster shall request a recycled parts audit of the collision estimate.\\nF:The recycled parts search results provided to the estimator shall be retrieved by the system.\\nF:The system shall generate an audit report based on the available recycled parts and the collision estimate.\\nF:The audit report shall include the total number of recycled parts used in the estimate.\\nF:The audit report shall include the number of available recycled parts from the original search results.\\nF: The audit report shall include the percentage of available recycled parts used in the estimate \\nF:The audit report shall include the total score of the audit which sums the indivual line items.\\nF:The audit report shall be displayed to the user.\\nF:The audit report shall be available to other adjusters at later points in time.\\nF:The user shall select to view the preferred repair facility ratings.\\nF:The current repair facility ratings shall be displayed to the user.\\nF:The system will display a blank set of ratings if there are not ratings yet defined.\\nF:The user shall enter new ratings based on the audit report\\nF:The ratings shall be from a scale of 1-10\\nF:The ratings shall include categories for attempted use of recycled parts and actual use of recycled parts\\nF:The user shall select to save the preferred repair facility ratings.\\nF:The preferred repair facility ratings shall be saved by the system.\\nO: The product must work with most database management systems (DBMS) on the market  whether the DBMS is colocated with the product on the same machine or is located on a different machine on the computer network.\\nO:The product will function alongside server software on any operating system where the Java runtime can be installed.\\nO:The product will require collaboration with a database management system (DBMS).  The DBMS may be located on the same machine as the product or on a separate machine residing on the same computer network.\\nO: The product must make use of web/application server technology.  Open source examples include Apache web server  Tomcat  and the JBoss application server.\\nO: A database management system such as Oracle  DB2  MySql or HSQL will need to be integrated with the product.\\nLF: The product�s Look and Feel shall be able to incorporate aspects of the customer�s organization such as logo  branding  and identity\\nLF:The product shall have a conservative and professional appearance.\\nUS:The product shall make the users want to use it. 80% of the users surveyed report they are regularly using the product after the first 2 weeks post-launch.\\nUS:The product shall be easy to use. 90% of users will be able to successfully reserve a conference room within 5 minutes of product use.\\nUS:The product shall give users feedback when necessary. 80% of the users surveyed report that the product accurately confirms their actions.\\nUS:The product shall allow the user to select a chosen language from one of the target market countries.\\nUS:The product shall allow for customization of start page and views preferences.\\nUS: An employee will be able to successfully use the product within a few minutes.  After informally navigating the product for less than 15 minutes  users shall be able to successfully setup meetings and reserve conference rooms.\\nUS:The product shall use a standard navigation menu familiar to most web users.\\nUS:The product shall allow for intuitive searching of available conference rooms.\\nUS:The product shall conform to the Americans with Disabilities Act.\\nPE:The response shall be fast enough to avoid interrupting the user�s flow of thought.  90% of tasks shall complete within 5 seconds.  98% of tasks shall complete within 8 seconds.\\nA: Aside from server failure  the software product shall achieve 99.99% up time.\\nFT:The product shall create an exception log of problems encountered within the product for transmission to our company for analysis and resolution.\\nSC: The product shall be capable of handling up to 1 000 concurrent requests.  This number will increase to 2 000 by Release 2.  The concurrency capacity must be able to handle peak scheduling times such as early morning and late afternoon hours.\\nSC: The product shall be able to process 10 000 transactions per hour within two years of its launch.  This number will increase to 20 000 by Release 2.\\nSC:The product shall be expected to operate for at least 5 years for each customer installation.\\nO:The product shall be used in office environments.\\nO:The product must be able to interface with any HTML browser.  The product shall transmit data between the user and the product without problems. The product shall display HTML properly in 80% of all HTML browsers tested (minimum is to test 8 browsers).\\nO:The product must be able to interface with various database management systems. The product shall communicate successfully with the database management system on 100% of all transactions.\\nO:The product must be able to interface with various email servers. The product shall be able to send email.\\nO:The product shall be available for distribution via the Internet as a binary or ZIP file.\\nO:The product shall be available for distribution as a packaged CD.\\nO: The product will be available for licensing as a one-server  two-five servers  or five-or-more servers license.\\nUS:A new user must be able to be added to the system within 10 minutes.  90% of new users are able to log into the system within 10 minutes.\\nMN:The product must be designed using Design Patterns and coding best practices.  90% of maintenance software developers are able to integrate new functionality into the product with 2 working days.\\nMN:The product must be highly configurable for use with various database management systems for the end users.  80% of end users are able to integrate new database management systems with the product without changing the product�s software code.\\nMN:Maintenance releases will be offered to customers once a year.  The releases shall take no longer than 5 minutes for 80% of the customer base to install.\\nUS:Every registered user will have access to the product�s support site via the Internet.  70% of registered users shall find a solution to their problem within 5 minutes of using the support site.\\nMN:The customer shall be able to easily integrate new building maps with the product throughout the product�s lifecycle.  Integration of new maps with the product shall be possible with little to no support from product support staff.\\nUS: The product shall be translated into foreign languages other than the target market countries� languages in future releases.  For each emerging target market  it shall take no more than 5 days to configure the product for that market�s language.\\nO: The product is expected to integrate with multiple database management systems.  The product will operate with Oracle  SQL Server  DB2  MySQL  HSQL  and MS Access.\\nO:The product shall be able to be installed in any operating environment within 2 days.\\nSE:The product shall ensure that only company employees or external users with company-approved user IDs may have product access.  100% of all logons shall be by either company employees or external users with company-approved user IDs.\\nSE:Only managers are able to perform search queries for reservations by user.  100% of all search queries for reservations by user shall be from logons of only management logons.\\nSE:The product shall ensure that the database�s data corresponds to the data entered by the user.  Each conference room reservation in the system will contain the same information as was entered by the user.\\nSE:The product shall prevent the input of malicious data.  The product and/or adjacent hardware/software systems� data shall remain 100% uncorrupted each time malicious data is input into the product.\\nFT:The product and/or dependent databases/filesystems shall remain operational as a result of the input of malicious data.  The product and/or dependent databases/filesystems shall not crash 100% of the time that malicious data is input into the product.\\nSE:The product shall have the ability to receive automatic software updates as new threats emerge.  100% of customers will be able to receive automatic software updates transmitted to the installed product.\\nSC:The language of the product shall accommodate all of the target market countries. 90% of survey respondents from each target market country will find that the language of the product is acceptable.\\nUS:The product shall be able to display calendar dates and times according to the user�s locale.  90% of survey respondents from each target market country will find that the date and time formatting of the product is correct.\\nO:The product must be developed with the J2SE/J2EE programming language libraries\\nF:The product shall record meeting entries.\\nF:The product will notify employees of meeting invitations.\\nF:The product shall have the ability to send meeting reminders to employees.\\nF:The product shall assign the organizers contact information to each meeting they create.\\nF:The product will record meeting acknowledgements.\\nF:The product shall store new conference rooms.\\nF:The product shall update existing conference rooms.\\nF:The product will be able to delete conference rooms.\\nF:The product shall be able to store new room equipment.\\nF:The product will update existing room equipment.\\nF:The product shall be able to delete room equipment.\\nF:The product shall allow an organizer to invite other employees to meetings.\\nF: Each time a conference room is reserved  the conference room schedule shall be updated to reflect the time and date of the reservation.\\nF:The product shall record the transportation status of equipment reserved.\\nF:The product shall display a map of the company building showing conference room locations.\\nF:The product shall record updated meeting agendas.\\nF:The product shall send a meeting confirmation to the meeting organizer.\\nF:The product shall display room equipment according to search parameters.\\nF:The product shall display conference rooms according to search parameters.\\nF:The product shall record different meeting types.\\nF:The product shall record all the equipment that has been reserved.\\nF:The product shall notify building personnel of equipment transport requests.\\nF:The product will allow priviledged users to view meeting schedules in multiple reporting views.\\nF:The product shall be able to send meeting notifications via different kinds of end-user specified methods.\\nF:The product shall have a customizable Look and Feel.\\nF:The product shall have an intuitive user interface.\\nF:The product will display an available status for unreserved conference rooms.\\nPE:Recreation of Inventory Quantity Adjustment for the period of previous 30 days shall take no more than 30min.\\nPE:The System shall allow for a minimum of  6 users to work at the same time.\\nO:The System shall utilize currently owned computer equipment.\\nO:The System shall be able to automatically backup business data and restore them on demand.\\nSE:The System shall maintain consistent security.  Any changes in user passwords and/or permissions should take affect in all parts of the System.\\nSE:The System shall granularly control access rights to all major subsystems.  It should be possible to assign access rights to all subsystems independently.\\nL:The System shall meet all applicable accounting standards.  The final version of the System must successfully pass independent audit performed by a certified auditor.\\nO:The System shall not require additional third party licenses resulting in royalty fees.\\nF:The System shall allow generation of Inventory Quantity Adjustment documents on demand.\\nF:The System shall allow on demand generation of all Inventory Quantity Adjustment documents since certain point of time.\\nF:The IQA subsystem shall take into account current inventory status and adjust inventory of substitutionary ingredients accordingly.\\nF: The System shall allow entering  storing and modifying product formulas.\\nF: Product formulas shall allow use of semi-products  which have own formulas.\\nF:Product formula ingredients shall allow defining substitutionary ingredients.\\nF:Product formula substitutionary ingredients shall be entered automatically by the PFE subsystem.\\nF:Formula substitutionary ingredients shall be kept in persisted order\\nF: Product shall allow entering  storing and modifying product menus used by POS terminals.\\nF:PME Subsystem shall allow building product menus based on the list of products kept in the accounting system.\\nF:PME Subsystem shall allow keeping submenus within menus and products within submenus in a managed and persisted order.\\nF:PME Subsystem shall allow for a product to exist in more than one submenu\\nF:The RMS System shall have Windows XP look and feel and use GUI futures making its use intuitive.\\nF:The System shall generate Inventory Quantity Adjustment document based on product daily sales data and product formulas.\\nF:The System shall generate Inventory Quantity Adjustment document automatically when daily Product Sales data is available.\\nPE:Administrator shall be able to activate a pre-paid card via the Administration section in under 5 seconds.\\nPE: Customer shall be able to check the status of their prepaid card  by entering in the PIN number  in under 5 seconds.\\nPE:System shall let customers register on the website as a �pay as you go� user in under 5 minutes.\\nPE:System shall let customers register on the website as a �unlimited movie subscriber� user in under 10 minutes.\\nPE:System shall let existing customers log into the website with their email address and password in under 5 seconds.\\nPE: System shall let customers cancel their account  process shall take no longer than 2 minutes.  Database will mark the account as inactive  and user will not be able to log into the website.\\nPE:System shall let administrator de-activate a customer account in under 1 minute. Customer will no longer be able to access the website.\\nPE:System shall let administrator add/remove movies on the website in under 5 minutes.  Entered movie information will be stored in the database and will now be available on the website.\\nPE:System shall let the administrator add/remove categories on the website in under 5 minutes.\\nPE:System shall let Izogn Manager access sales and usage statistics in under 2 minutes.\\nPE:System shall let administrators generate unique pre-paid pins in under 2 minutes and generate an Excel file with the generated PINs.\\nLF:The website shall be attractive to all audiences.  The website shall appear to be fun and the colors should be bright and vibrant.\\nLF: The website should have an African feel  but should not alienate non-Africans.  The website should use animation on pages which are describing the services  to grab the users attention and encourage them to sign up.\\nLF: The website design should be modern  clean  and concise.\\nUS:The product should be able to be used by 90% of novice users on the Internet.\\nUS: Users should only have to navigate through a maximum of 4 pages  to create an account with the website.\\nUS:Users should be able to access their streaming movies in under 2 clicks after logging into the website.\\nUS:An anonymous survey will show that 70% of customers are comfortable purchasing streaming movies after 2 weeks using the website.\\nUS:An anonymous survey will show that 95% of customers are comfortable using and purchasing pre-paid cards after a month of using the system.\\nUS:The product shall retain the customer�s buying preferences and information.\\nUS:The product shall be easy for customers with novice skills on the  Internet to purchase and watch streaming movies.  Customers should be able to purchase and watch a pre-determined movie in under 3 minutes.\\nUS:The product shall use symbols and words that are naturally understandable by users familiar with websites\\nUS:The website will use standard Internet conventions when interacting with the user.\\nPE: Any interface between a user and the automated system shall have a maximum response time of 5 seconds  unless noted by an exception below.\\nPE: When purchasing a streaming movie or pre-paid card via credit card  the processing time should have a maximum response time of 15 seconds.\\nPE: When streaming a movie  the buffering time should take no longer than 10 seconds (plus any latency on the user�s connection.)\\nPE: While streaming a movie  buffering should only occur if there is latency in the user�s connection.\\nSE: All credit card information will be secured on the server  and only accessible by authorized Izogn administrators.  Information will be encrypted in the database.\\nA: The website shall be available for use 24 hours per day  365 days per year.\\nA:The website shall achieve 99.5% up time.\\nA: All movies shall be streamed on demand  at any time of the day.\\nFT:The website shall continue to operate if the streaming server goes down.\\nFT:The website shall continue to operate if the payment gateway goes down.\\nSC:The streaming server will support 50 simultaneous streaming connections.\\nSC:The streaming server will support a maximum of 700 movies; new servers can be added to support more movies.\\nSC: The server will support a maximum of 1 000 simultaneous users.\\nSC: The website shall be capable of supporting 100 000 customers.\\nMN:The product shall be expected to operate within the maximum maintenance budget for a minimum of 2 years.\\nO:All aspects of the website shall be accessed by a web browser over the Internet.\\nO:The same hardware supporting the current website will be used to support the new system.\\nO: We must be able to interface with the following browsers: IE 5.X  6.0  Netscape 6.x  7.x  8.x and Firefox 1.0.\\nO:Website must interface with the CyberSource API to process credit card transactions.\\nO:Website must be fully operational with MSN TV2.\\nO:Movies shall be encoded and streamed via Windows Media Player 9.0.\\nO:Movies shall be encoded for 56k and 256k streams.\\nMN:Promotional updates to the website should take a day to update.\\nPE:Izogn Administrator must be able to update the category listings on the website within 2 minutes.\\nPE:Izogn Administrator must be able to add new products to the website within 2 minutes.\\nA:The system will provide a 24 hour 800 toll free number for support to its customers.\\nUS:The website will provide a help section with answers and solutions to common problems.\\nA: Velkat staff will be available for phone support between 7am-7pm  M-F to provide technical support to the Izogn administrators.\\nO:The product shall be able to be installed in the specified environment within 1 working day.\\nSE:Only registered customers can purchase streaming movies.\\nSE: A customer can only stream a movie if they purchased it  and are within the 2 day viewing period.\\nSE:Only authorized personnel can access customer records in the database.\\nSE:Only administrators can activate a pre-paid card.\\nSE:Only authorized personnel can access sales information.\\nSE:The website shall prevent its data from being corrupted when incorrect data is entered in.\\nSE: The website shall protect itself from intentional abuse  and notify the administrator at all occurrences.\\nSE:Data integrity scripts will be run on a weekly basis to verify the integrity of the database.\\nSE: The website shall make its user aware of its information practices before collection data from them via a Privacy Policy  accessible on all pages of the website.\\nSE:The system shall notify customers of changes to its information policy.\\nSE:The system shall reveal private information only in compliance with the organization�s information policy.\\nSE: All customer information will be stored on a secure database  accessible only to authorized personnel.\\nSE:All credit card information will be encrypted in the database.\\nSE:The streaming server will have anti-virus software to prevent infection of malicious viruses.\\nLF:The website should cater to all tribes in Nigeria.\\nLF:The website shall not be offensive to religious or ethnic groups.\\nLF: The website should appeal to all Africans  not only Nigerians.\\nO:The website should use Flash to provide animation on the home page.\\nL:IzognMovies shall meet the licensing requirements set forth by the appropriate organizations in order to stream African movies.\\nL:The website will comply with W3C standards.\\nL:The PHP code will comply with PEAR standards.\\nF: The website will allow customers to search for movies by title  actor  or director.\\nF: viewing a movie details  the website will display the movies description  actor  and director entered in by the administrator.\\nF: Website shall request  and authorize credit card payment before allowing a user to stream a movie.\\nF: shall be able to stream purchased movie via Windows Media Player  for up to 2 days aftere purchase date.\\nF:Website shall allow customers to browse movies by categories entered in by izogn administrator.\\nF:Website shall allow customers to view reviews of selected movies by other customers.\\nF:Website shall allow customers to add their own movie review for a selected movie.\\nF:Website shall allow the Izogn administrator to approve a review posted by a customer.\\nF:System will allow customers to pay for a streaming movie with a pre-paid card.\\nF: Website shall allow customers to purchase pre-paid cards of $5  $10  or $20 value either by credit card or mail-in payment option.\\nF: System shall automatically update the main page of the website every Friday  and show the 4 latest movies that have been added to the website.\\nF:System shall allow users to update their billing and contact information via the �My Account� section of the website.\\nF: Pre-paid cards shall be distributed via email  or via a printed paper card.\\nF:Only registered customers can purchase streaming movies.\\nF: Movies can only be streamed if the customer has purchased a movie  and is within the 2-day time period to stream the movie.\\nF:Website must be able to support free trial periods with various parameters set by the Izogn Manager.\\nF: All streaming movie sales will be logged in the database  and accessible by the administrator.\\nF: All registered customer information shall be stored and maintained in the database  even after the customer cancels their account.\\nF: Daily usage statistics should be logged  and accessible by the administrator.\\nF:The owner shall have free access to all of the streaming movies.\\nPE:Total lead cycle time must be completed in 5 minutes for 90% of lead volume between the business hours of 8AM CST to 8PM CST; then 3 minutes for 99% of lead volume during off business hours.\\nPE:No lead evaluation will complete in a time period longer than 25 seconds for 97% of all leads processed.\\nPE:For leads that process longer than 25 seconds the system will record the event and duration\\nPE:The process must fit within the processing time conditions set forth by the Auto Rep Assignment process in which a lead is assigned within 3 minutes of the total life cycle.\\nO:The lead washing process will operate within the established physical web service structure.\\nO: The washing process must use a non binding  neutral data format  such as xml  when receiving and processing lead data.\\nA:Defect reports will be available to technical units on a 24x7 basis.\\nMN:Washing parameters will be updated during scheduled maintenance hours.\\nF:The vendor will verify the invalid lead.\\nF:Vendor will submit a credit validation record to be applied to the enterprise billing system.\\nF:If a lead is scored to the high range the system will supply the lead data and score to the enterprise system.\\nF:The leads washing functionality will validate all leads received by the web service for valid data\\nF:The leads washing functionality will insert all leads captured by the web service.\\nF:If the leads score falls within the high average score then it will be process by the ARA functionality.\\nF:If the leads score falls within the medium average then it will be set for manual verification by an Enrollment Coordinator through the eleads system.\\nF:If the leads score falls within the low average then it will be returned to the supplying vendor\\nF:The leads washing functionality will compile both contact and academic scoring information for a total score.\\nF:The leads washing functionality will use the parameters supplied by corporate and schools to score part of the lead.\\nF:The leads washing functionality will return the lead data supplied to the vendor along with the reason of rejection.\\nF:The leads washing functionality will have an interface in which lead data parameters can be maintained.\\nF:The leads washing functionality will verify the users authentication and rights to make parameter updates.\\nF:The leads washing functionality will store any potential lead duplicates returned by the enterprise system.\\nF:Prior to submitting the lead to the enterprise system the leads washing functionality will assign the lead to an admissions rep.\\nF:The leads washing functionality shall receive a period list of available reps from the enterprise system.\\nLF:The product shall simulate the look of ships at sea.\\nLF:The product shall display the grids within a circle as a view from a periscope.\\nLF:The product shall display each type of ship in a grid using an image of the specific type of ship.\\nLF: When the offensive player takes a shot  the product shall simulate the sound of a ship at sea.\\nLF: When a shot is marked as a miss  the product shall simulate the sound of a shot missing its target.\\nLF: When a shot is marked as a hit  the product shall simulate the sound of a shot hitting its target.\\nLF: When a ship is sunk  the product shall simulate the sound of a sinking ship.\\nA: The product shall be available 24 hours per day  seven days per week.\\nPE:The product shall able to handle a large number of games simultaneously.\\nPE:The response time shall be fast enough to maintain the flow of the game.  The response time shall be no more than 2 seconds for 95% of responses and no more than 4% for the remaining responses.\\nPE:The product shall protect the identity of the players. The product shall provide players no access to information that might reveal the identity of another player.\\nUS:The product shall be intuitive and self-explanatory.  Nine out ten users shall be able to successfully complete a game with no training.\\nUS: The product shall be available to players who understand English  Spanish and French.  The product shall allow the user to select the language upon accessing the product.\\nSE:The product shall provide players no access to information that might reveal the identity of another player\\nPE:The response time shall be fast enough to maintain the flow of the game. The response time shall be no more than 2 seconds for 95% of responses and no more than 4% for the remaining responses.\\nF:The product shall maintain a list of players.\\nF:The product shall allow a user to identify himself or herself as a player.\\nF: Once a game has been initiated  the product shall make the players assigned to the game unavailable for selection from the list of players.\\nF:The product shall allow a user to remove himself or herself from the list of players at any time.\\nF:The product shall make inactive players unavailable for selection from the list of players.\\nF:The product shall remove players who have been inactive for 24 hours from the list of players.\\nF:The product shall allow a player to initiate a game by selecting another available player from the list of players.\\nF: Once a game is initiated  the product shall display a defensive grid to each player\\nF: Once a game is initiated  the product shall display an offensive grid to each player.\\nF:The product shall prevent a player from viewing the offensive or defensive grids of the other player.\\nF: Once a game is initiated  the product shall allow each player to position their 5 ships on their respective defensive grids.\\nF:The product shall allow a player to position ships horizontally on their grid.\\nF:The product shall allow the player to position ships vertically on their grid.\\nF:The product shall allow the player to position ships diagonally on their grid\\nF:The product shall prevent the player from overlapping ships on their grid.\\nF: When both players have positioned their 5 ships on their defensive grids  the product shall define the status of each player for the first turn.\\nF: For each turn  the product shall identify one player as offensive status and one player as defensive status.\\nF: The product shall maintain the status of each player for a turn  either offensive or defensive.\\nF: At the start of each turn  the product shall notify each player of his or her status.\\nF: For each turn  the product shall allow the offensive player to define a shot.\\nF: For each shot  the product shall examine the defensive grid of the defensive player to determine whether the shot was a hit or miss.\\nF: For each shot  the product shall notify the players whether the shot was a hit or miss.\\nF: For each shot  the product shall mark the shot as a hit or miss on the defensive grid of the defensive player.\\nF: For each shot  the product shall mark the shot as a hit or miss on the offensive grid of the offensive player.\\nF:When the hit results in sinking a ship  the product shall notify the players that the ship was sunk.\\nF:When the hit results in sinking a ship  the product shall mark the ship as sunk on the defensive grid of the defensive player.\\nF:When the hit results in sinking a ship  the product shall indicate the type of ship sunk on the defensive grid of the defensive player.\\nF:When the hit results in sinking a ship  the product shall mark the ship as sunk on the offensive grid of the offensive player.\\nF:If the shot was marked as a hit  the product shall allow the offensive player to define a shot.\\nF:If the shot was marked as a miss  the product shall change the status of the offensive player to defensive\\nF:If the shot was marked as a miss  the product shall change the status of the defensive player to offensive\\nF:The product shall continue to assign turns until the game is ended.\\nF:The product shall end a game when a hit by the offensive player results in sinking the last of the defensive player�s ships  which had not been previously marked as sunk.\\nF:The product shall allow a player to end a game at any time during the game.\\nF:When a game is ended  the product shall notify the players that the game is ended.\\nF:The notification of the game ending will include the reason the game is ended (i.e.  a player has won the game or a player has ended the game).\\nF:When a game is ended  the product shall allow each player to identify himself or herself as an available player in the list of players.\\nF:When a game is ended  the product shall allow each player to remove himself or herself from the list of players.\\nUS:The system shall be easy to use by callers and supervisors. Callers and supervisors must be able to accomplish any system task within 2 minutes.\\nUS:The system shall be easy to learn by callers and supervisors. Callers and supervisors shall learn how to use the system within 10 minutes.\\nPE:The system shall be responsive. At the DePaul TeleServices Center  when a supervisor uses the system to view a callers schedule  the system response time must be no more than 2 seconds 90% of the time and no more than 5 seconds the rest of the time.\\nPE:On a 56k connection  the system response time for all operations must be no more than 6 seconds 90% of the time.\\nPE:On a 112k connection or faster  the system response time for all operations must be no more than 3 seconds 90% of the time.\\nA:The system shall have high availability every day of the year.The system must be available for use between 12:00AM and 6:00PM all days of the year.\\nA:The system must be available for use between 7:00AM and 11:59PM all days of the year.\\nMN:The product shall be internet browser independent.The product must run using Internet Explorer and Netscape Navigator.\\nSE:The product shall ensure that only supervisors can advertise empty time slots.The product must ensure that supervisors are allowed to access advertise empty time slots.\\nSE:The product shall ensure that only supervisors can enter a caller�s schedule.The product must ensure that supervisors are allowed to access advertise empty time slots.\\nSE:The product shall ensure that only supervisors can view schedule of all callers.The product must ensure that supervisors are allowed to access advertise empty time slots.\\nLF:The interface shall have a simple look. In the interface and usability survey  90% of beta testers must report that the interface is adequately simple.\\nLF:The interface shall be appealing to callers and supervisors. In the interface and usability survey  80% of beta testers must report that the interface is appealing.\\nLF:The product shall provide GUI based Monitoring Services.System Administrators shall monitor message exchanges will predict and determine problems and will also provide internal and external support.\\nLF:The product shall comply with City of Chicago Application Development Guide Framework.Application Development Framework will provide structured Graphical User Interface.\\nUS:The product shall provide Monitoring Services.The product shall be easy for System Administrators and DBAs to use after two weeks of usage.\\nUS:The product shall provide Error Tracking Services.The product shall help the System Administrators and DBAs to resolve transaction errors 99% of the time.\\nUS:The product shall provide Portals.The product shall help System Administrators to analyze the transactions with ad-hoc reporting and KPIs (Key Performance Indicators)\\nPE:The product shall provide Asynchronous Messaging.The product shall provide asynchronous messaging to enable parallel processing and reduce the overhead in communications\\nPE:The product shall provide Multi-threading and Load Balancing.The product shall provide multi-threading technology as well as load balancing to overcome data load spikes and traffic.\\nPE:The product shall process messages within 2 seconds.The product shall have a maximum message processing time of 2 seconds\\nPE:The product shall poll the system for messages every second.The product shall poll the system for new messages at a maximum of every 1 second.\\nPE:The product shall provide Dynamic Change Support and Transparent resource addition.The product shall support Transparent Resource addition and Dynamic Change support to provide scalability and avoid service interruptions of more than 1 day.\\nA:The product shall be available 99% of the time. Rationale: To avoid service interruption during busiest customer service response periods. The product shall be available 99.99% of the time for regular business days.\\nFT:The product shall be robust.The product shall have fault avoidance based on standards adoption.\\nFT:The product shall be robust with fault tolerance.The product shall have fault tolerance by using recovery technique compensatory transaction and routing around failures.\\nSC:The product shall be able to process all transactions.The product shall process minimum of 1 million transactions per year.\\nO:The product shall be platform independent.The product shall enable access to any type of development environment and platform.\\nO:The product shall interface CSR and Datastream.The product shall exchange messages between CSR and EAM on a real time basis without any direct interfaces between two systems.\\nMN:The product shall continue to operate during upgrade  change or new resource addition.The product shall be able to continue to operate with no interruption in service due to new resource additions.\\nMN:The product shall be updated on a regular basis.The product will have a new major feature introduced every six months and quarterly maintenance releases every six months.\\nMN:The product shall operate with every platform.The product shall accommodate any new technology without any change in its architecture.\\nSE: The product shall have security.The product shall provide authentication  and authorization.\\nSE:The product shall information Security. The product shall enable privacy by encryption WS-Security and Integrity Checking.\\nSE:The product shall have audit capabilities.The product shall store messages for a minimum of one year for audit and transaction tracking purposes.\\nLF:The system shall use IBM and CCR branding standards. The interface must have one IBM logo and one CCR logo.\\nLF:The system shall be displayable on any work computer a CCR user may have. The system interface shall be formatted to display at 800 by 600 pixel resolution.\\nLF:The system interface will use CCR nomenclature. The system must use the same nomenclature used in the existing WCS system and reports\\nLF:The interface must summarize the data in a fashion that�s appealing to CCR management. Every report type must have at least one high level summary shown in the results dashboard/interface\\nUS:The system must use a point and click interface. 100% of all selection and navigation functionality must be able to be activated/selected by either a mouse or a keyboard\\nUS:The interface shall be easy to use. 90% of users should be able to successfully use the system to generate a report on their first use. The interface should adhere to IBM usability standards.\\nUS:Rreports must be easy to generate. eports must be generated within one button click and exported within one button click (after selecting the report)\\nUS:A user shall be able to use the system without instruction after a short amount of time. After one use a user should understand and remember 90% of the system usage and navigation.\\nUS:All CCR users shall receive training before the WCS system is deployed. One training session will be held for 100% of CCR users before system deployment (based on a CCR user being available)\\nUS:The WCS system shall use appropriate nomenclature and terminology as defined by the Corporate Community Grants organization. All interfaces and reports will undergo usability tests by CCR users.\\nA:The WCS system shall be available at all times as long as IBM�s internal intranet W3 is accessible. The WCS system will be available 95% of the time IBM�s internal intranet W3 is available.\\nSC:The WCS system shall have the ability to connect other designated WCS databases currently not included in the system.\\nSC:The WCS system shall have the ability to include data for regions outside the United States and be accessed by users outside of the United States if approved by CCR management.\\nO:The WCS system shall be run in a Windows environment. The WCS shall be accessed by users through the Internet on an IBM computer running a Windows 2000 or above operating system.\\nO:The Brio portion of the WCS system must be able to export files in spreadsheet form (Microsoft Excel and Lotus 1-2-3 formats).  Brio will provide buttons in the user interface that produce/export reports in .xls or .123 file formats.\\nMN:The WCS system must run queries to the WCS databases once again (on a specified day) to update the available data available to CCR users. Queries must be made to external databases for data refresh once a week.\\nMN: All changes  updates  and additions to the WCS system shall be updated in the WCS Developer and WCS User Guides. Every change must be reflected in WCS system documentation\\nSE:The system shall only be accessed by authorized Corporate Community Grants (CCR) employees. Users must be authenticated using their IBM intranet user name and password.\\nSE:The WCS system shall not allow automatic logins by any user. Cookies containing WCS login information about a user will not be stored on a user�s computer.\\nSE:Each team owner will need to use a username and password in order to be authenticated to reach the team owner�s page\\nSE:The Commissioner will be the only authorized user per league to adjust league settings.\\nLF:Each page shall contain a navigation menu which shows the index into which the current page is contained.\\nLF:Each page shall contain a similar format with action items in one location and navigation buttons in a different location.\\nLF:The message board shall contain the 5 most recently posted messages on the league page. The messages will contain up to the first 150 characters of the message.\\nUS:A new user shall be able to navigate through the league and team pages within 30 seconds of reaching the start-up page.\\nUS:Users shall be able to reach the �add�  �drop�  and �trade player� pages with one click from the team owner�s page.\\nUS:Users shall be able to view at least 25 NFL player statistics and points on each page.\\nUS:The application shall ask the user to confirm dropping a player or trading a player before performing the action.\\nPE:The application shall be able to complete every user transaction within one fourth of a second of receiving the request over the network.\\nA:The application shall have a downtime of at most 10 minutes per year.\\nO:The application shall run on a web application server.\\nPE:The maximum wait time for a user navigating from one screen to another within the Disputes application shall be no more than 5 seconds.\\nPE:The Disputes application shall support 350 concurrent users without any degradation of performance in the application.\\nO: The Disputes application shall be available 24x7x365  with the exception of the following scheduled maintenance windows.  Monday � Saturday 3:00am to 4:00am EST Sunday 1:00amd to 5:00am EST\\nO:The Disputes application shall interface with the Statement Database. The Statement Database provides the transaction details to the Disputes System. All transaction details must be obtained from the Statement Database\\nO:A primary database will be used to store cached data for active users.\\nA:The system shall achieve 95% up time.\\nLF:The system shall have a professional appearance\\nLF:The product shall have a consistent color scheme and fonts.\\nUS:The system shall be used by realtors with no training.\\nUS:The system shall be intuitive and self explanatory.\\nUS:The product shall be easy for a realtor to learn.\\nUS:The product shall use symbols and words that are naturally understandable by the realtor community.\\nPE:The product shall produce search results in an acceptable time\\nPE:The search results shall be returned no later 30      seconds  after the user has entered the search criteria\\nPE:The product shall generate a CMA report in an acceptable time.\\nPE:The CMA report shall be returned no later 60 seconds after the user has entered the CMA report criteria.\\nPE:The product shall synchronize contacts and appointments in an acceptable time.\\nPE:The product shall synchronize with the office system every hour.\\nA: The product shall be available for use 24 hours per day  365 days  per year\\nA: Out of 1000 accesses to the system  the system is available 999 times.\\nFT:The product shall operate in offline mode whenever internet connection is unavailable.\\nFT: The product shall allow the user to view previously downloaded search results  CMA reports  and appointments.\\nFT:The product shall retain user preferences in the event of a failure.\\nFT:100% of saved user preferences shall be restored when system comes back online.\\nSC:The product shall be able to support multiple remote users\\nSC:The product shall be able support 1000 simultaneous users.\\nSC:The product shall be capable of handling the existing 1000 users. This number is expected to grow 5 times within the next year.\\nUS:The product shall be installed by an untrained realtor   without recourse to separately-printed instructions.\\nUS:90% of untrained realtors shall be able to install the product on their device without printed instructions\\nPO:The product is expected to run on Windows CE and Palm operating systems.\\nSE:Only registered realtors shall be able to access the system.\\nSE:Every user of the system shall be authenticated and authorized.\\nSE:The product shall prevent its data from incorrect data being introduced.\\nF:The system shall allow a real estate agent to query MLS information\\nF:The user shall be able to get driving directions to a selected property\\nF:The user shall be able to download appointments and contact information for clients\\nF:The system shall display clear property images in the search results\\nSC:system shall be able to handle all of the user requests/usage during business hours.\\nSC:The system shall cater to 10 simultaneous users from 9am to 5pm.\\nSC:The system shall be capable of processing 100% of nursing students and their classes for the next 10 years.\\nSC:The system shall be expected to manage the nursing program curriculum and class/clinical scheduling for a minimum of 5 years.\\nO:The system shall able to operate within a business office environment typical of the Nursing Department at DePaul University.\\nO:The system shall be used within the specifications defined by the computers used by the Program Administrators/Nursing Staff Members.\\nO:A secondary database will be used to store historical statistics and data.\\nF:The system shall be able to call the seller or buyer to schedule an appointment\\nF:The realtor shall be notified of new client appointments after automatic synchronization with office system\\nF:The realtor shall be able to retrieve a map showing property locations for a specified area\\nF:The system shall notify the realtor when a seller or buyer responds to an appointment request\\nF:The product shall allow the user to save the property search results.\\nUS:The system shall be easy to use by the Program Administrators/Nursing Staff Members.\\nUS:All of the users shall be able to use the system after one day of training.\\nUS:The system shall help the user avoid making mistakes while scheduling classes and clinicals for the nursing students.\\nUS:The number of mistakes noted by the students shall be decreased by 50% in the first year.\\nUS:The system shall be intuitive to the Program Administrators/Nursing Staff Members.\\nUS:2 out of 3 Program Administrators/Nursing Staff Members shall successfully be able to use the system to manage the scheduling of classes and clinicals.\\nUS:The system shall use symbols and words that are naturally understandable by the user community.\\nUS:The verbiage used within the system shall be consistent with Standard English and the terminology of the national Nursing Community.\\nPE:Staff members shall be able to complete a set of tasks in a timely manner.\\nPE:The response time of general student management tasks shall take no longer than 5 seconds and the response time of schedule generation shall take no longer than 30 seconds.\\nA:The system shall be available for use between the hours of 8am and 6pm.\\nO:The system shall operate within the Windows XP Professional operating system.\\nO:The system shall interface with CampusConnect�s central server\\nO:The system shall interface with the faculty central server.\\nO:The system shall interface with the student master server.\\nO:We must be able to interface with any HTML browser.\\nSE:Only authorized users shall have access to clinical site information.\\nSE:Program Administrators/Nursing Staff Members are the only people who shall have access to clinical site details.\\nSE:Only authorized users shall have access to students� personal information.\\nSE:Dr Susan Poslusny and Dr Julie Donalek are the only people who shall have access to students� personal information.\\nSE:Only authorized users shall have access to the portion of the system that interfaces with CampusConnect.\\nSE:Fit Criterion: Dr Susan Poslusny and Karen Sysol are the only people who shall have access to the final class section scheduling for the system that interfaces with CampusConnect.\\nSE:The system shall have basic data integrity checking to reduce the possibility of incorrect or invalid data being introduced.\\nSE:The system shall protect private information in accordance with the organization�s information policy.\\nSE:The system shall be built such that it is as secure as possible from malicious interference.\\nSE:The system shall use the organization�s standard virus protection software to help monitor threats to itself.\\nF:A cohort shall be associated to one Program of Study offered by the department.\\nF:Program Administrators and Nursing Staff Members shall be able to add a listing of students to a cohort.\\nF:Program Administrators and Nursing Staff Members shall be able to add a single student to a cohort\\nF:Students added to a cohort shall be eligible for the cohort�s Program of Study.\\nF:Program Administrators and Nursing Staff Members shall be able to specify the preferred sequence of classes for a given cohort.\\nF: For each class within a sequence for a cohort  Program Administrators and Nursing Staff Members shall be able to specify which quarter that class will be offered.\\nF: For each class within a sequence for a cohort  Program Administrators and Nursing Staff Members shall be able to specify which quarter that class will be offered.\\nF:Program Administrators and Nursing Staff Members shall be able to add new classes to a sequence of classes\\nMN:Application updates shall occur between 3AM and 6 AM CST on Wednesday morning during the middle of the NFL season.\\nMN:New System version releases shall be released at the beginning of each NFL season.\\nF:The system shall display data from the Sync Matrix 1.0 and Exercise Management Tool 1.0 applications\\nF:The system shall link Events back to either the Sync Matrix 1.0 or the Exercise Managment Tool 1.0 applications for modifications.\\nF:The system shall allow modification of the display.\\nF:The system shall offer a display of all the Events in the exercise.\\nF:The system shall filter data by: Venues and Key Events.\\nF:The system shall allow a user to define the time segments\\nF:The system shall display the local and exercise time in separate clocks\\nF:The system shall offer the ability to pause and resume the refresh of data.\\nF:The system shall provide charts for the Activity or Event actual versus assumed time.\\nA:The RFS system should be available 24/7  especially during the budgeting period. The RFS system shall be available 90% of the time all year  and 98% during the budgeting period. 2% of the time  the system will become available within 1 hour of the time that the situation is reported.\\nO:98% of the user workstations shall meet the minimum hardware requirements prior to implementation. Minimum Hard Disk Space:  400MB.\\nO:98% of the user workstations shall meet the minimum software requirements prior to implementation: Microsoft Internet Explorer 5.0. Microsoft .NET Framework 1.1. Microsoft Internet Explorer Web Controls\\nO:\"The RFS system should be able to easily interface with the BDW environment  in order to load the data. �\\t7 data files shall be received from the BDW and loaded into the RFS system within 3 hours one day prior to the start of budgeting process  every year. The data will be as of October month-end. \\tTest files (7) shall be loaded up to 5 times throughout the year  from the BDW.\"\\nMN:Changes to revenue and expense formulae must be applied to the RFS system  every year  prior to the budgeting process start. Revenue and expense formulae will be updated within one week of their receipt  after which 2 weeks will be allotted to testing of the budget calculations  to be conducted jointly by the project development team and PCG Finance.\\nMN:New branches/complexes/districts/regions and revenue/expense accounts added to the BDW  must be reflected in the RFS system. 100% of the entities (mentioned above) available as of October month-end  will be loaded into the RFS system  prior to the budget start process.\\nSE:Only authorized user shall access the RFS system. ONLY users that exist in the UAS system  with the RFS system assigned to their role(s)  shall access the RFS system and use it.\\nSE:User access should be limited to the permissions granted to their role(s) Each level in the PCG hierarchy will be assigned a role and users will be assigned to these roles. Access to functionality within RFS system is dependent on the privileges/permission assigned to the role..\\nLF:The product must comply with the intranet page standards and requirements of ENET Securities. 95% of the product look & feel will be approved by the Architecture group  prior to implementation. The remaining 5% will be corrected and approved within one month of product release.\\nLF:The intranet pages should display appropriately in all resolutions  from 800x600 and higher. The display of all the pages will be correct in 95% of the resolutions  prior to implementation. The remaining 5% will be corrected within a week of notification of the incorrect display.\\nUS:The users should be able to easily use the system to successfully complete their budgets  within the stipulated time for completion. With a week of training prior to product implementation  98% of the users shall complete their budgets within the stipulated time.\\nPE:The product interface should be fast. The response time of the product interface should not exceed 2 seconds 90% of the time. For 10% of the time  the response time should not be more than 10 seconds.not be more than 10 seconds.\\nF:The system will use the stored e-mail addresses as a primary means of communicating information to affected parties.\\nF: The system will notify affected parties for routine communication purposes  including but not limited to informing students of upcoming offered classes (timeline) and what their schedule will be/shall be.\\nF: The system will notify affected parties when changes occur affecting clinicals  including but not limited to clinical section capacity changes  and clinical section cancellations.\\nF: The system will notify affected parties when changes occur affecting classes  including but not limited to class cancellations  class section detail changes  and changes to class offerings for a given quarter.')]"
      ]
     },
     "execution_count": 8,
     "metadata": {},
     "output_type": "execute_result"
    }
   ],
   "source": [
    "from langchain_community.document_loaders import TextLoader\n",
    "\n",
    "loader = TextLoader(\"./data/nfr.txt\")\n",
    "text_document = loader.load()\n",
    "text_document\n"
   ]
  },
  {
   "cell_type": "code",
   "execution_count": 9,
   "metadata": {},
   "outputs": [],
   "source": [
    "from langchain.text_splitter import RecursiveCharacterTextSplitter\n",
    "\n",
    "text_splitter = RecursiveCharacterTextSplitter(chunk_size=500, chunk_overlap=10)\n",
    "documents = text_splitter.split_documents(text_document)"
   ]
  },
  {
   "cell_type": "code",
   "execution_count": 10,
   "metadata": {},
   "outputs": [],
   "source": [
    "from langchain_openai.embeddings import OpenAIEmbeddings\n",
    "\n",
    "embeddings = OpenAIEmbeddings()\n",
    "# embedded_query = embeddings.embed_query"
   ]
  },
  {
   "cell_type": "code",
   "execution_count": 11,
   "metadata": {},
   "outputs": [
    {
     "data": {
      "text/plain": [
       "1536"
      ]
     },
     "execution_count": 11,
     "metadata": {},
     "output_type": "execute_result"
    }
   ],
   "source": [
    "len(embeddings.embed_query(\"Who is Mary's sister?\"))"
   ]
  },
  {
   "cell_type": "code",
   "execution_count": 12,
   "metadata": {},
   "outputs": [
    {
     "data": {
      "text/plain": [
       "(158,\n",
       " Document(metadata={'source': './data/nfr.txt'}, page_content='PE:The system shall refresh the display every 60 seconds.\\nLF:The application shall match the color of the schema set forth by Department of Homeland Security\\nUS: If projected  the data must be readable.  On a 10x10 projection screen  90% of viewers must be able to read Event / Activity data from a viewing distance of 30'))"
      ]
     },
     "execution_count": 12,
     "metadata": {},
     "output_type": "execute_result"
    }
   ],
   "source": [
    "len(documents), documents[0]"
   ]
  },
  {
   "cell_type": "code",
   "execution_count": 13,
   "metadata": {},
   "outputs": [
    {
     "name": "stderr",
     "output_type": "stream",
     "text": [
      "/home/nima/Desktop/langchain/.venv/lib/python3.11/site-packages/pydantic/_migration.py:283: UserWarning: `pydantic.error_wrappers:ValidationError` has been moved to `pydantic:ValidationError`.\n",
      "  warnings.warn(f'`{import_path}` has been moved to `{new_location}`.')\n"
     ]
    }
   ],
   "source": [
    "from langchain_community.vectorstores import DocArrayInMemorySearch\n",
    "\n",
    "vectorstore = DocArrayInMemorySearch.from_documents(documents, embeddings)"
   ]
  },
  {
   "cell_type": "code",
   "execution_count": 14,
   "metadata": {},
   "outputs": [
    {
     "name": "stderr",
     "output_type": "stream",
     "text": [
      "/home/nima/Desktop/langchain/.venv/lib/python3.11/site-packages/pinecone/data/index.py:1: TqdmWarning: IProgress not found. Please update jupyter and ipywidgets. See https://ipywidgets.readthedocs.io/en/stable/user_install.html\n",
      "  from tqdm.autonotebook import tqdm\n"
     ]
    }
   ],
   "source": [
    "from langchain_pinecone import PineconeVectorStore\n",
    "\n",
    "index_name = \"re-index\"\n",
    "\n",
    "pinecone = PineconeVectorStore.from_documents(documents, embeddings, index_name=index_name)"
   ]
  },
  {
   "cell_type": "code",
   "execution_count": 15,
   "metadata": {},
   "outputs": [],
   "source": [
    "from langchain_core.runnables import RunnableParallel, RunnablePassthrough\n",
    "\n",
    "setup = RunnableParallel(\n",
    "    examples=pinecone.as_retriever(), requirment=RunnablePassthrough()\n",
    ")\n",
    "chain = (\n",
    "    setup\n",
    "    |prompt\n",
    "    |model\n",
    "    |parser\n",
    ")\n",
    "\n",
    "output = chain.invoke(\"The user interface shall have standard menus  buttons for navigation\")"
   ]
  },
  {
   "cell_type": "code",
   "execution_count": 25,
   "metadata": {},
   "outputs": [
    {
     "name": "stdout",
     "output_type": "stream",
     "text": [
      "   class                                               text\n",
      "0      F     The system shall display Events or Activities.\n",
      "1      F  The display shall have two regions:  left 2/3 ...\n",
      "2      F  The data displayed in both the nodes within th...\n",
      "3      F  The table side of the display shall be split i...\n",
      "4      F  The top 1/4 of the table will hold events that...\n",
      "..   ...                                                ...\n",
      "65    SE  The Disputes application shall manipulate and ...\n",
      "66    SE  All updates to data files or database must be ...\n",
      "67     L  The Disputes application must conform to the l...\n",
      "68     L  All business rules specified in the Disputes S...\n",
      "69     L  The Disputes application must conform to the l...\n",
      "\n",
      "[70 rows x 2 columns]\n"
     ]
    }
   ],
   "source": [
    "import pandas as pd\n",
    "\n",
    "# Read the file\n",
    "file_path = './data/test.txt'\n",
    "with open(file_path, 'r') as file:\n",
    "    lines = file.readlines()\n",
    "\n",
    "# Initialize lists to store separated data\n",
    "classes = []\n",
    "texts = []\n",
    "\n",
    "# Process each line\n",
    "for line in lines:\n",
    "    # Split the line into class and text parts\n",
    "    if ':' in line:\n",
    "        class_part, text_part = line.split(\":\",1)\n",
    "        classes.append(class_part.strip())\n",
    "        texts.append(text_part.strip())\n",
    "\n",
    "# Create a DataFrame from the lists\n",
    "import pandas as pd\n",
    "\n",
    "test = pd.DataFrame({\n",
    "    'class': classes,\n",
    "    'text': texts,\n",
    "})\n",
    "\n",
    "# Display the first few rows to verify\n",
    "print(test)"
   ]
  },
  {
   "cell_type": "code",
   "execution_count": 22,
   "metadata": {},
   "outputs": [
    {
     "data": {
      "text/plain": [
       "'The system shall display Events or Activities.'"
      ]
     },
     "execution_count": 22,
     "metadata": {},
     "output_type": "execute_result"
    }
   ],
   "source": [
    "test.iloc[0]['Text']"
   ]
  },
  {
   "cell_type": "code",
   "execution_count": 26,
   "metadata": {},
   "outputs": [
    {
     "name": "stdout",
     "output_type": "stream",
     "text": [
      "1/70 done :)\n",
      "2/70 done :)\n",
      "3/70 done :)\n",
      "4/70 done :)\n",
      "5/70 done :)\n",
      "6/70 done :)\n",
      "7/70 done :)\n",
      "8/70 done :)\n",
      "9/70 done :)\n",
      "10/70 done :)\n",
      "11/70 done :)\n",
      "12/70 done :)\n",
      "13/70 done :)\n",
      "14/70 done :)\n",
      "15/70 done :)\n",
      "16/70 done :)\n",
      "17/70 done :)\n",
      "18/70 done :)\n",
      "19/70 done :)\n",
      "20/70 done :)\n",
      "21/70 done :)\n",
      "22/70 done :)\n",
      "23/70 done :)\n",
      "24/70 done :)\n",
      "25/70 done :)\n",
      "26/70 done :)\n",
      "27/70 done :)\n",
      "28/70 done :)\n",
      "29/70 done :)\n",
      "30/70 done :)\n",
      "31/70 done :)\n",
      "32/70 done :)\n",
      "33/70 done :)\n",
      "34/70 done :)\n",
      "35/70 done :)\n",
      "36/70 done :)\n",
      "37/70 done :)\n",
      "38/70 done :)\n",
      "39/70 done :)\n",
      "40/70 done :)\n",
      "41/70 done :)\n",
      "42/70 done :)\n",
      "43/70 done :)\n",
      "44/70 done :)\n",
      "45/70 done :)\n",
      "46/70 done :)\n",
      "47/70 done :)\n",
      "48/70 done :)\n",
      "49/70 done :)\n",
      "50/70 done :)\n",
      "51/70 done :)\n",
      "52/70 done :)\n",
      "53/70 done :)\n",
      "54/70 done :)\n",
      "55/70 done :)\n",
      "56/70 done :)\n",
      "57/70 done :)\n",
      "58/70 done :)\n",
      "59/70 done :)\n",
      "60/70 done :)\n",
      "61/70 done :)\n",
      "62/70 done :)\n",
      "63/70 done :)\n",
      "64/70 done :)\n",
      "65/70 done :)\n",
      "66/70 done :)\n",
      "67/70 done :)\n",
      "68/70 done :)\n",
      "69/70 done :)\n",
      "70/70 done :)\n"
     ]
    }
   ],
   "source": [
    "import time\n",
    "\n",
    "output_of_prompt = []\n",
    "\n",
    "i = 0\n",
    "while i != len(test):\n",
    "    try:\n",
    "        output = chain.invoke(f\"{test.iloc[i]['text']}\")\n",
    "        output_of_prompt.append({'i':i,\n",
    "                                'text':test.iloc[i]['text'],\n",
    "                                'labels':test.iloc[i]['class'],\n",
    "                                'prompt_output': output})\n",
    "\n",
    "        time.sleep(2)\n",
    "        i += 1\n",
    "        print(f'{i}/{len(test)} done :)')\n",
    "    except Exception as e:\n",
    "        print(f'\\n sleep time by 10 seconds for {i}')\n",
    "        print(\"Error: \",e)\n",
    "        time.sleep(10)"
   ]
  },
  {
   "cell_type": "code",
   "execution_count": 50,
   "metadata": {},
   "outputs": [],
   "source": [
    "i = 0\n",
    "while i != len(output_of_prompt):\n",
    "    try: \n",
    "        if output_of_prompt[i]['prompt_output'][1] == ' ':\n",
    "            # print(f\"old: {output_of_prompt[i]['prompt_output'][0]}\")\n",
    "            output_of_prompt[i]['prompt_output'] = output_of_prompt[i]['prompt_output'][0]\n",
    "            # print(f\"new: {output_of_prompt[i]['prompt_output'][0]}\")\n",
    "        else:\n",
    "            output_of_prompt[i]['prompt_output'] = output_of_prompt[i]['prompt_output'][0:2]\n",
    "        i += 1\n",
    "    except Exception as e:\n",
    "        i += 1\n",
    "    "
   ]
  },
  {
   "cell_type": "code",
   "execution_count": 51,
   "metadata": {},
   "outputs": [
    {
     "data": {
      "text/plain": [
       "[{'i': 0,\n",
       "  'text': 'The system shall display Events or Activities.',\n",
       "  'labels': 'F',\n",
       "  'prompt_output': 'F'},\n",
       " {'i': 1,\n",
       "  'text': 'The display shall have two regions:  left 2/3 of the display is graphical  right 1/3 of the display is a data table',\n",
       "  'labels': 'F',\n",
       "  'prompt_output': 'F'},\n",
       " {'i': 2,\n",
       "  'text': 'The data displayed in both the nodes within the graph and the rows in the table are MSEL Summary data',\n",
       "  'labels': 'F',\n",
       "  'prompt_output': 'LF'},\n",
       " {'i': 3,\n",
       "  'text': 'The table side of the display shall be split into 2 regions: sequential and temporal.',\n",
       "  'labels': 'F',\n",
       "  'prompt_output': 'F'},\n",
       " {'i': 4,\n",
       "  'text': 'The top 1/4 of the table will hold events that are to occur sequentially.',\n",
       "  'labels': 'F',\n",
       "  'prompt_output': 'LF'},\n",
       " {'i': 5,\n",
       "  'text': 'The bottom 3/4 of the table will hold events that occur according to its relevance to current time.',\n",
       "  'labels': 'F',\n",
       "  'prompt_output': 'F'},\n",
       " {'i': 6,\n",
       "  'text': 'The system shall color code events according to their variance from current time.',\n",
       "  'labels': 'F',\n",
       "  'prompt_output': 'F'},\n",
       " {'i': 7,\n",
       "  'text': 'The system shall provide a history report of changes made to the Activity or Event data',\n",
       "  'labels': 'F',\n",
       "  'prompt_output': 'F'},\n",
       " {'i': 8,\n",
       "  'text': 'The look and feel of the system shall conform to the user interface standards of the smart device.',\n",
       "  'labels': 'LF',\n",
       "  'prompt_output': 'LF'},\n",
       " {'i': 9,\n",
       "  'text': 'The user interface shall have standard menus  buttons for navigation',\n",
       "  'labels': 'LF',\n",
       "  'prompt_output': 'LF'},\n",
       " {'i': 10,\n",
       "  'text': 'The system shall update or create new property listings in the MLS',\n",
       "  'labels': 'F',\n",
       "  'prompt_output': 'F'},\n",
       " {'i': 11,\n",
       "  'text': 'Realtor shall be able to generate a CMA report based on property criteria',\n",
       "  'labels': 'F',\n",
       "  'prompt_output': 'F'},\n",
       " {'i': 12,\n",
       "  'text': 'Program Administrators and Nursing Staff Members shall be able to add clinical classes or sections to a sequence of classes',\n",
       "  'labels': 'F',\n",
       "  'prompt_output': 'F'},\n",
       " {'i': 13,\n",
       "  'text': 'Program Administrators and Nursing Staff Members shall be able to add a new cohort to the system  identified by start month and year.',\n",
       "  'labels': 'F',\n",
       "  'prompt_output': 'F'},\n",
       " {'i': 14,\n",
       "  'text': 'Program Administrators and Nursing Staff Members shall be able to add new classes for the nursing department into the system.',\n",
       "  'labels': 'F',\n",
       "  'prompt_output': 'F'},\n",
       " {'i': 15,\n",
       "  'text': 'A class shall be either a non-clinical class or a clinical class.',\n",
       "  'labels': 'F',\n",
       "  'prompt_output': 'F'},\n",
       " {'i': 16,\n",
       "  'text': 'A non-clinical class shall specify the course name  lecture room requirements  and instructor needs.',\n",
       "  'labels': 'F',\n",
       "  'prompt_output': 'F'},\n",
       " {'i': 17,\n",
       "  'text': 'A clinical class shall specify the course name  lecture room requirements  clinical site needs  lecture instructor needs  and clinical lab instructor needs.',\n",
       "  'labels': 'F',\n",
       "  'prompt_output': 'F'},\n",
       " {'i': 18,\n",
       "  'text': 'Program Administrators/Nursing Staff Members shall be able to create a new Program of Study.',\n",
       "  'labels': 'F',\n",
       "  'prompt_output': 'F'},\n",
       " {'i': 19,\n",
       "  'text': 'A Program of Study shall consist of a program name and listing of required classes (both clinical and non-clinical) that must be completed.',\n",
       "  'labels': 'F',\n",
       "  'prompt_output': 'F'},\n",
       " {'i': 20,\n",
       "  'text': 'Program Administrators and Nursing Staff Members shall have the ability to specify which classes are required for a Program of Study',\n",
       "  'labels': 'F',\n",
       "  'prompt_output': 'F'},\n",
       " {'i': 21,\n",
       "  'text': 'The system shall be able to display a report of needed classes for a given quarter for all cohorts of all programs for Program Administrators/Nursing Staff Members� planning purposes.',\n",
       "  'labels': 'F',\n",
       "  'prompt_output': 'F'},\n",
       " {'i': 22,\n",
       "  'text': 'The report of needed classes shall include (but not be limited to) classes to be offered  number of sections needed  number of labs needed  and room types needed.',\n",
       "  'labels': 'F',\n",
       "  'prompt_output': 'F'},\n",
       " {'i': 23,\n",
       "  'text': 'Classes for a given cohort shall not conflict with regards to the time and day that they are offered.',\n",
       "  'labels': 'F',\n",
       "  'prompt_output': 'F'},\n",
       " {'i': 24,\n",
       "  'text': 'Program Administrators and Nursing Staff Members shall be able to add a new clinical site into the system.',\n",
       "  'labels': 'F',\n",
       "  'prompt_output': 'F'},\n",
       " {'i': 25,\n",
       "  'text': 'Clinical site information shall include (but not be limited to) the name of the site  contact person  and contact information.',\n",
       "  'labels': 'F',\n",
       "  'prompt_output': 'F'},\n",
       " {'i': 26,\n",
       "  'text': 'Program Administrators and Nursing Staff Members shall be able to add a new clinical lab section for an existing clinical class into the System.',\n",
       "  'labels': 'F',\n",
       "  'prompt_output': 'F'},\n",
       " {'i': 27,\n",
       "  'text': 'A clinical lab section shall include the clinical site name  the class  instructor  day and time of the lab.',\n",
       "  'labels': 'F',\n",
       "  'prompt_output': 'F'},\n",
       " {'i': 28,\n",
       "  'text': 'Program Administrators and Nursing Staff Members shall be able to add a student who has registered for a clinical class to a clinical lab section for that class.',\n",
       "  'labels': 'F',\n",
       "  'prompt_output': 'F'},\n",
       " {'i': 29,\n",
       "  'text': 'The system shall allow a Program Administrator or Nursing staff member to remove a student from a clinical lab section.',\n",
       "  'labels': 'F',\n",
       "  'prompt_output': 'F'},\n",
       " {'i': 30,\n",
       "  'text': 'The system shall allow a Program Administrator/Nursing Staff Member to move a student from one clinical lab section to another clinical lab section corresponding to the same clinical class.',\n",
       "  'labels': 'F',\n",
       "  'prompt_output': 'F'},\n",
       " {'i': 31,\n",
       "  'text': 'Program Administrators/Nursing Staff Members shall be able to cancel a clinical lab section only if there are no students registered for that clinical lab section.',\n",
       "  'labels': 'F',\n",
       "  'prompt_output': 'F'},\n",
       " {'i': 32,\n",
       "  'text': 'A Program Administrator/Nursing Staff Member shall be able to add a new nursing student to the system.',\n",
       "  'labels': 'F',\n",
       "  'prompt_output': 'F'},\n",
       " {'i': 33,\n",
       "  'text': 'A staff member shall have the ability to manage the progress of a part time student  which includes modifying their sequence of classes and timeline of classes.',\n",
       "  'labels': 'F',\n",
       "  'prompt_output': 'F'},\n",
       " {'i': 34,\n",
       "  'text': 'The system shall be able to display a printable summary for individual cohorts  which will include the students enlisted  the Program of study  sequence of classes  cohort progress through the program  and timeline of completion.',\n",
       "  'labels': 'F',\n",
       "  'prompt_output': 'F'},\n",
       " {'i': 35,\n",
       "  'text': 'The system shall be able to display a printable summary for individual clinical sites  which will include information on labs being held at that site for the given quarter (Clinical site  general information on labs held at that location  dates and times of all labs held there).',\n",
       "  'labels': 'F',\n",
       "  'prompt_output': 'F'},\n",
       " {'i': 36,\n",
       "  'text': 'The system shall be able to display a printable summary for individual clinical labs  which will include (but not be limited to) class name  class number  lab section  listing of students enrolled  instructor  day(s)  time  and location.',\n",
       "  'labels': 'F',\n",
       "  'prompt_output': 'F'},\n",
       " {'i': 37,\n",
       "  'text': 'The system shall be able to display a printable summary for individual nursing students  which will include (but not be limited to) student name  student ID  admission date  classes  credits  GPA  and the cohort that the student is enrolled in.',\n",
       "  'labels': 'F',\n",
       "  'prompt_output': 'F'},\n",
       " {'i': 38,\n",
       "  'text': 'The system shall be able to display a printable summary of the system log.',\n",
       "  'labels': 'F',\n",
       "  'prompt_output': 'F'},\n",
       " {'i': 39,\n",
       "  'text': 'The system shall contain contact information (e-mail and phone number) for all people relevant to the system  including (but not limited to) staff members  students  lecture instructors  clinical lab instructors  and clinical site administrators.',\n",
       "  'labels': 'F',\n",
       "  'prompt_output': 'F'},\n",
       " {'i': 40,\n",
       "  'text': 'The system will notify affected parties when changes occur affecting cohorts  including but not limited to changes to the sequence for a cohort�s program of study and changes to a given week�s schedule (lab cancelled this week due to instructor illness).',\n",
       "  'labels': 'F',\n",
       "  'prompt_output': 'F'},\n",
       " {'i': 41,\n",
       "  'text': 'The system will notify affected parties when changes occur affecting specific students  including but not limited to changing a student�s status from full time to part time and moving a student to a different clinical section.',\n",
       "  'labels': 'F',\n",
       "  'prompt_output': 'F'},\n",
       " {'i': 42,\n",
       "  'text': 'Program Administrators/Nursing Staff Members shall have the ability to modify information relating to cohorts  including cohort identifier  program of study  preferred sequence of classes and quarters that a cohort will be taking specific classes.',\n",
       "  'labels': 'F',\n",
       "  'prompt_output': 'F'},\n",
       " {'i': 43,\n",
       "  'text': 'Program Administrators/Nursing Staff Members shall have the ability to modify information relating to a Program of Study within the Nursing Department  including the Program of study name  and required classes for that Program of Study.',\n",
       "  'labels': 'F',\n",
       "  'prompt_output': 'F'},\n",
       " {'i': 44,\n",
       "  'text': 'Program Administrators/Nursing Staff Members shall have the ability to modify information relating to a Clinical Site  including the clinical site name  site contact person  contact information  and address.',\n",
       "  'labels': 'F',\n",
       "  'prompt_output': 'F'},\n",
       " {'i': 45,\n",
       "  'text': 'Program Administrators/Nursing Staff Members shall have the ability to modify information relating to a Clinical Lab Section  including the clinical site name  the department/section for the lab  the class  instructor  day and time of lab  and contact information.',\n",
       "  'labels': 'F',\n",
       "  'prompt_output': 'F'},\n",
       " {'i': 46,\n",
       "  'text': 'Program Administrators/Nursing Staff Members shall have the ability to modify information relating to a Nursing Student  including student ID  student name  phone number  e-mail  status (full time or part time)  and program of study.',\n",
       "  'labels': 'F',\n",
       "  'prompt_output': 'F'},\n",
       " {'i': 47,\n",
       "  'text': 'The Disputes application shall comply with the corporate standards for user interface creation for internally and externally used applications.',\n",
       "  'labels': 'LF',\n",
       "  'prompt_output': 'LF'},\n",
       " {'i': 48,\n",
       "  'text': 'All screens created as part of the Disputes application must comply with corporate standards for interface creation.',\n",
       "  'labels': 'LF',\n",
       "  'prompt_output': 'LF'},\n",
       " {'i': 49,\n",
       "  'text': 'The list of dispute cases that are displayed after a search is performed must be color coded for easy identification of dispute cases based upon the dispute case status.',\n",
       "  'labels': 'US',\n",
       "  'prompt_output': 'LF'},\n",
       " {'i': 50,\n",
       "  'text': '100% of the cardmember and merchant services representatives shall use the Disputes application regularly after a 2-day training course.',\n",
       "  'labels': 'US',\n",
       "  'prompt_output': 'US'},\n",
       " {'i': 51,\n",
       "  'text': '100% of cardmember services representatives shall be able to successfully create a dispute case on the first encounter after completing the training course.',\n",
       "  'labels': 'US',\n",
       "  'prompt_output': 'F'},\n",
       " {'i': 52,\n",
       "  'text': '100% of merchant services representatives shall be able to successfully perform a follow up action on a dispute case on the first encounter after completing the training course.',\n",
       "  'labels': 'US',\n",
       "  'prompt_output': 'F'},\n",
       " {'i': 53,\n",
       "  'text': 'The Disputes application shall interface with the Cardmember Information Database.  The Cardmember Information Database provides detailed information with regard to a cardmember.  All cardmember detail information must be obtained from the Cardmember Information Database.',\n",
       "  'labels': 'O',\n",
       "  'prompt_output': 'O'},\n",
       " {'i': 54,\n",
       "  'text': 'The Disputes applications shall interface with the Merchant Information Database.  The Merchant Information Database provides detailed information with regard to the merchant. All merchant detail information shall be obtained from the Merchant Information Database.',\n",
       "  'labels': 'O',\n",
       "  'prompt_output': 'O'},\n",
       " {'i': 55,\n",
       "  'text': 'The Disputes application shall interface with the Letters application.  This will allow the Disputes application to request letters as part of the dispute initiation and dispute follow up process. All letter requests must be sent to the Print Letter Utility application.',\n",
       "  'labels': 'O',\n",
       "  'prompt_output': 'F'},\n",
       " {'i': 56,\n",
       "  'text': 'The Disputes application shall interface with the Cardmember Posting and Billing System.  This will allow the Disputes application to request adjustments to cardmember and merchant�s accounts. All adjustment requests must be sent to the Cardmember Posting and Billing System.',\n",
       "  'labels': 'O',\n",
       "  'prompt_output': 'A'},\n",
       " {'i': 57,\n",
       "  'text': 'The Disputes application shall ensure that only users with the appropriate access level are allowed to initiate dispute requests.',\n",
       "  'labels': 'SE',\n",
       "  'prompt_output': 'F'},\n",
       " {'i': 58,\n",
       "  'text': 'Only users with Update access must be able to initiate dispute requests.',\n",
       "  'labels': 'SE',\n",
       "  'prompt_output': 'F'},\n",
       " {'i': 59,\n",
       "  'text': 'The Disputes application shall ensure that only authorized users are allowed to logon to the application.',\n",
       "  'labels': 'SE',\n",
       "  'prompt_output': 'SE'},\n",
       " {'i': 60,\n",
       "  'text': 'All authorized users  once authenticated must be able to logon to the Disputes System',\n",
       "  'labels': 'SE',\n",
       "  'prompt_output': 'F'},\n",
       " {'i': 61,\n",
       "  'text': 'The Disputes System shall generate a User Report that details any new users that have been added and any changes to an existing user�s access level.  The report will be reviewed for auditing purposes.',\n",
       "  'labels': 'SE',\n",
       "  'prompt_output': 'F'},\n",
       " {'i': 62,\n",
       "  'text': 'All additions of new users and modifications to users access shall be recorded on the User Report.',\n",
       "  'labels': 'SE',\n",
       "  'prompt_output': 'F'},\n",
       " {'i': 63,\n",
       "  'text': 'If a user account is revoked  it can only be re-instantiated by the System Administrator.',\n",
       "  'labels': 'SE',\n",
       "  'prompt_output': 'SE'},\n",
       " {'i': 64,\n",
       "  'text': 'Only the System Administrator shall be able to reset a revoked user logon account',\n",
       "  'labels': 'SE',\n",
       "  'prompt_output': 'SE'},\n",
       " {'i': 65,\n",
       "  'text': 'The Disputes application shall manipulate and view business data. Users will not have direct access to data files or databases.',\n",
       "  'labels': 'SE',\n",
       "  'prompt_output': 'F'},\n",
       " {'i': 66,\n",
       "  'text': 'All updates to data files or database must be initiated from the Disputes System.',\n",
       "  'labels': 'SE',\n",
       "  'prompt_output': 'F'},\n",
       " {'i': 67,\n",
       "  'text': 'The Disputes application must conform to the legal requirements as specified by the Merchant Operating Regulations.',\n",
       "  'labels': 'L',\n",
       "  'prompt_output': 'L'},\n",
       " {'i': 68,\n",
       "  'text': 'All business rules specified in the Disputes System shall be in compliance with the Merchant Operating Regulations.',\n",
       "  'labels': 'L',\n",
       "  'prompt_output': 'L'},\n",
       " {'i': 69,\n",
       "  'text': 'The Disputes application must conform to the legal requirements as specified by Regulation E and Regulation Z that govern credit card disputes processing.',\n",
       "  'labels': 'L',\n",
       "  'prompt_output': 'L'}]"
      ]
     },
     "execution_count": 51,
     "metadata": {},
     "output_type": "execute_result"
    }
   ],
   "source": [
    "output_of_prompt"
   ]
  },
  {
   "cell_type": "code",
   "execution_count": 68,
   "metadata": {},
   "outputs": [],
   "source": [
    "pred = []\n",
    "label = []\n",
    "data  = output_of_prompt\n",
    "for d in data:\n",
    "    pred.append(d['prompt_output'])\n",
    "    label.append(d['labels'])"
   ]
  },
  {
   "cell_type": "code",
   "execution_count": 74,
   "metadata": {},
   "outputs": [
    {
     "data": {
      "text/plain": [
       "['F',\n",
       " 'F',\n",
       " 'LF',\n",
       " 'F',\n",
       " 'LF',\n",
       " 'F',\n",
       " 'F',\n",
       " 'F',\n",
       " 'LF',\n",
       " 'LF',\n",
       " 'F',\n",
       " 'F',\n",
       " 'F',\n",
       " 'F',\n",
       " 'F',\n",
       " 'F',\n",
       " 'F',\n",
       " 'F',\n",
       " 'F',\n",
       " 'F',\n",
       " 'F',\n",
       " 'F',\n",
       " 'F',\n",
       " 'F',\n",
       " 'F',\n",
       " 'F',\n",
       " 'F',\n",
       " 'F',\n",
       " 'F',\n",
       " 'F',\n",
       " 'F',\n",
       " 'F',\n",
       " 'F',\n",
       " 'F',\n",
       " 'F',\n",
       " 'F',\n",
       " 'F',\n",
       " 'F',\n",
       " 'F',\n",
       " 'F',\n",
       " 'F',\n",
       " 'F',\n",
       " 'F',\n",
       " 'F',\n",
       " 'F',\n",
       " 'F',\n",
       " 'F',\n",
       " 'LF',\n",
       " 'LF',\n",
       " 'LF',\n",
       " 'US',\n",
       " 'F',\n",
       " 'F',\n",
       " 'O',\n",
       " 'O',\n",
       " 'F',\n",
       " 'A',\n",
       " 'F',\n",
       " 'F',\n",
       " 'SE',\n",
       " 'F',\n",
       " 'F',\n",
       " 'F',\n",
       " 'SE',\n",
       " 'SE',\n",
       " 'F',\n",
       " 'F',\n",
       " 'L',\n",
       " 'L',\n",
       " 'L']"
      ]
     },
     "execution_count": 74,
     "metadata": {},
     "output_type": "execute_result"
    }
   ],
   "source": [
    "pred"
   ]
  },
  {
   "cell_type": "code",
   "execution_count": 75,
   "metadata": {},
   "outputs": [
    {
     "name": "stdout",
     "output_type": "stream",
     "text": [
      "Accuracy:  0.9428571428571428\n",
      "Recall:  0.8\n",
      "Precision:  0.8\n",
      "F1-score:  0.8000000000000002\n"
     ]
    }
   ],
   "source": [
    "import numpy as np\n",
    "from collections import defaultdict\n",
    "\n",
    "def perf_measure(y_true, y_pred):\n",
    "    y_true = np.array(y_true)\n",
    "    y_pred = np.array(y_pred)\n",
    "\n",
    "    if len(y_true) != len(y_pred):\n",
    "        raise ValueError(\"The lengths of y_true and y_pred must match.\")\n",
    "\n",
    "    # Get the unique classes\n",
    "    classes = np.unique(np.concatenate((y_true, y_pred)))\n",
    "\n",
    "    # Initialize dictionaries to store results\n",
    "    metrics = {cls: {\"TP\": 0, \"FP\": 0, \"TN\": 0, \"FN\": 0} for cls in classes}\n",
    "\n",
    "    for cls in classes:\n",
    "        metrics[cls][\"TP\"] = np.sum((y_true == cls) & (y_pred == cls))\n",
    "        metrics[cls][\"FP\"] = np.sum((y_true != cls) & (y_pred == cls))\n",
    "        metrics[cls][\"TN\"] = np.sum((y_true != cls) & (y_pred != cls))\n",
    "        metrics[cls][\"FN\"] = np.sum((y_true == cls) & (y_pred != cls))\n",
    "\n",
    "    TP = sum(values[\"TP\"] for values in metrics.values())\n",
    "    FP = sum(values[\"FP\"] for values in metrics.values())\n",
    "    TN = sum(values[\"TN\"] for values in metrics.values())\n",
    "    FN = sum(values[\"FN\"] for values in metrics.values())\n",
    "    return TP, FP, TN, FN\n",
    "\n",
    "TP, FP, TN, FN = perf_measure(label, pred)\n",
    "\n",
    "accuracy = (TP + TN) / (TP + FP + TN + FN)\n",
    "recall = TP / (TP + FN) if (TP + FN) > 0 else 0\n",
    "precision = TP / (TP + FP) if (TP + FP) > 0 else 0\n",
    "F1 = (2 * precision * recall) / (precision + recall) if (precision + recall) > 0 else 0\n",
    "\n",
    "print('Accuracy: ', accuracy)\n",
    "print('Recall: ', recall)\n",
    "print('Precision: ', precision)\n",
    "print('F1-score: ', F1)"
   ]
  },
  {
   "cell_type": "code",
   "execution_count": null,
   "metadata": {},
   "outputs": [],
   "source": []
  }
 ],
 "metadata": {
  "language_info": {
   "name": "python"
  }
 },
 "nbformat": 4,
 "nbformat_minor": 2
}
